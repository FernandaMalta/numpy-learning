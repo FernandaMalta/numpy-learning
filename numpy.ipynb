{
  "nbformat": 4,
  "nbformat_minor": 0,
  "metadata": {
    "colab": {
      "name": "Numpy Learning",
      "provenance": [],
      "include_colab_link": true
    },
    "kernelspec": {
      "display_name": "Python 3",
      "name": "python3"
    }
  },
  "cells": [
    {
      "cell_type": "markdown",
      "metadata": {
        "id": "view-in-github",
        "colab_type": "text"
      },
      "source": [
        "<a href=\"https://colab.research.google.com/github/FernandaMalta/numpy-learning/blob/main/numpy.ipynb\" target=\"_parent\"><img src=\"https://colab.research.google.com/assets/colab-badge.svg\" alt=\"Open In Colab\"/></a>"
      ]
    },
    {
      "cell_type": "code",
      "metadata": {
        "id": "Ftu5SDJJOkaq"
      },
      "source": [
        "import numpy as np\r\n"
      ],
      "execution_count": 2,
      "outputs": []
    },
    {
      "cell_type": "markdown",
      "metadata": {
        "id": "kO98M2FxTGLA"
      },
      "source": [
        "**The Basics**\r\n",
        "\r\n",
        "---\r\n",
        "\r\n"
      ]
    },
    {
      "cell_type": "code",
      "metadata": {
        "colab": {
          "base_uri": "https://localhost:8080/"
        },
        "id": "5lKdx5GtTJa4",
        "outputId": "b95c518c-1143-4b07-be61-6237aac261eb"
      },
      "source": [
        "a = np.array([1,2,3])\r\n",
        "print(a)"
      ],
      "execution_count": null,
      "outputs": [
        {
          "output_type": "stream",
          "text": [
            "[1 2 3]\n"
          ],
          "name": "stdout"
        }
      ]
    },
    {
      "cell_type": "code",
      "metadata": {
        "colab": {
          "base_uri": "https://localhost:8080/"
        },
        "id": "cmaXg1nxUzM0",
        "outputId": "e3a3e26e-ad36-4065-fcc0-44d4698da751"
      },
      "source": [
        "b = np.array([[1.0, 5.0, 3.0],[6.0, 7.0, 8.0]])\r\n",
        "print(b)"
      ],
      "execution_count": null,
      "outputs": [
        {
          "output_type": "stream",
          "text": [
            "[[1. 5. 3.]\n",
            " [6. 7. 8.]]\n"
          ],
          "name": "stdout"
        }
      ]
    },
    {
      "cell_type": "code",
      "metadata": {
        "colab": {
          "base_uri": "https://localhost:8080/"
        },
        "id": "QgC1xC3IVYMX",
        "outputId": "c9d4f7cc-e6ac-4ab2-c663-9189a26d0815"
      },
      "source": [
        "# Get Dimension A\r\n",
        "a.ndim"
      ],
      "execution_count": null,
      "outputs": [
        {
          "output_type": "execute_result",
          "data": {
            "text/plain": [
              "1"
            ]
          },
          "metadata": {
            "tags": []
          },
          "execution_count": 6
        }
      ]
    },
    {
      "cell_type": "code",
      "metadata": {
        "colab": {
          "base_uri": "https://localhost:8080/"
        },
        "id": "-KyOZQq7VeE_",
        "outputId": "b332e6c3-3100-4944-a994-b42c52356304"
      },
      "source": [
        "#Get Shape\r\n",
        "a.shape"
      ],
      "execution_count": null,
      "outputs": [
        {
          "output_type": "execute_result",
          "data": {
            "text/plain": [
              "(3,)"
            ]
          },
          "metadata": {
            "tags": []
          },
          "execution_count": 7
        }
      ]
    },
    {
      "cell_type": "code",
      "metadata": {
        "colab": {
          "base_uri": "https://localhost:8080/"
        },
        "id": "ptGuLatuYDwe",
        "outputId": "99a2b4e9-9284-48ad-ced6-0b6153aef793"
      },
      "source": [
        "# Get Type\r\n",
        "a.dtype"
      ],
      "execution_count": null,
      "outputs": [
        {
          "output_type": "execute_result",
          "data": {
            "text/plain": [
              "dtype('int64')"
            ]
          },
          "metadata": {
            "tags": []
          },
          "execution_count": 8
        }
      ]
    },
    {
      "cell_type": "code",
      "metadata": {
        "colab": {
          "base_uri": "https://localhost:8080/"
        },
        "id": "g6owx2xNYJOt",
        "outputId": "69fa45b7-9993-4b2b-8927-056b3b7e8a32"
      },
      "source": [
        "#Get Size\r\n",
        "a.itemsize"
      ],
      "execution_count": null,
      "outputs": [
        {
          "output_type": "execute_result",
          "data": {
            "text/plain": [
              "8"
            ]
          },
          "metadata": {
            "tags": []
          },
          "execution_count": 9
        }
      ]
    },
    {
      "cell_type": "code",
      "metadata": {
        "colab": {
          "base_uri": "https://localhost:8080/"
        },
        "id": "BiUwpp3PYRu8",
        "outputId": "7a23845a-65a7-41b4-aef0-26c58cd936da"
      },
      "source": [
        "#Get Total size\r\n",
        "a.nbytes"
      ],
      "execution_count": null,
      "outputs": [
        {
          "output_type": "execute_result",
          "data": {
            "text/plain": [
              "24"
            ]
          },
          "metadata": {
            "tags": []
          },
          "execution_count": 10
        }
      ]
    },
    {
      "cell_type": "markdown",
      "metadata": {
        "id": "GumiMPaaZES6"
      },
      "source": [
        "**Accessing/Changing Specifics elements, rows, columns, etc**\r\n",
        "\r\n",
        "---\r\n",
        "\r\n"
      ]
    },
    {
      "cell_type": "code",
      "metadata": {
        "id": "3k3tpXQibNxs"
      },
      "source": [
        "import numpy as np"
      ],
      "execution_count": null,
      "outputs": []
    },
    {
      "cell_type": "code",
      "metadata": {
        "colab": {
          "base_uri": "https://localhost:8080/"
        },
        "id": "0A-J-fMyb0Im",
        "outputId": "417aafe7-3465-416c-c6b5-512cbef867d4"
      },
      "source": [
        "a = np.array([[1,2,3,4,5,6,7],[8,9,10,11,12,13,14]])\r\n",
        "print(a)"
      ],
      "execution_count": null,
      "outputs": [
        {
          "output_type": "stream",
          "text": [
            "[[ 1  2  3  4  5  6  7]\n",
            " [ 8  9 10 11 12 13 14]]\n"
          ],
          "name": "stdout"
        }
      ]
    },
    {
      "cell_type": "code",
      "metadata": {
        "colab": {
          "base_uri": "https://localhost:8080/"
        },
        "id": "96aYMLHbcEgP",
        "outputId": "a5ddbb92-d8af-4a8e-f91b-2b1a3aca9754"
      },
      "source": [
        "#Get a Specific Element [r, c]\r\n",
        "a[1,5]"
      ],
      "execution_count": null,
      "outputs": [
        {
          "output_type": "execute_result",
          "data": {
            "text/plain": [
              "13"
            ]
          },
          "metadata": {
            "tags": []
          },
          "execution_count": 6
        }
      ]
    },
    {
      "cell_type": "code",
      "metadata": {
        "colab": {
          "base_uri": "https://localhost:8080/"
        },
        "id": "INGXuBz-cftO",
        "outputId": "89adf55c-c06f-4b9a-a3d2-b2fdca392eab"
      },
      "source": [
        "#Get a specific row\r\n",
        "a[0,:]"
      ],
      "execution_count": null,
      "outputs": [
        {
          "output_type": "execute_result",
          "data": {
            "text/plain": [
              "array([1, 2, 3, 4, 5, 6, 7])"
            ]
          },
          "metadata": {
            "tags": []
          },
          "execution_count": 7
        }
      ]
    },
    {
      "cell_type": "code",
      "metadata": {
        "colab": {
          "base_uri": "https://localhost:8080/"
        },
        "id": "JG--Nqsrcq85",
        "outputId": "ce6f8e07-9a23-4898-b94e-9be8ea5f4afb"
      },
      "source": [
        "#Get a specific column\r\n",
        "a[:,2]"
      ],
      "execution_count": null,
      "outputs": [
        {
          "output_type": "execute_result",
          "data": {
            "text/plain": [
              "array([ 3, 10])"
            ]
          },
          "metadata": {
            "tags": []
          },
          "execution_count": 8
        }
      ]
    },
    {
      "cell_type": "code",
      "metadata": {
        "colab": {
          "base_uri": "https://localhost:8080/"
        },
        "id": "G5G5ZA49c4Fb",
        "outputId": "85966add-f83e-455e-e453-53c836ef6415"
      },
      "source": [
        "#Getting a little more fancy [startindex:endindex:stepsize]\r\n",
        "a[0, 1:6:2]"
      ],
      "execution_count": null,
      "outputs": [
        {
          "output_type": "execute_result",
          "data": {
            "text/plain": [
              "array([2, 4, 6])"
            ]
          },
          "metadata": {
            "tags": []
          },
          "execution_count": 9
        }
      ]
    },
    {
      "cell_type": "code",
      "metadata": {
        "colab": {
          "base_uri": "https://localhost:8080/"
        },
        "id": "PE4EHLK1daWj",
        "outputId": "3343c6ab-e979-4822-8740-4d0c15b45d9b"
      },
      "source": [
        "a[1,5] = 20\r\n",
        "print(a)\r\n",
        "\r\n",
        "a[:,2] = 5\r\n",
        "print(a)"
      ],
      "execution_count": null,
      "outputs": [
        {
          "output_type": "stream",
          "text": [
            "[[ 1  2  3  4  5  6  7]\n",
            " [ 8  9 10 11 12 20 14]]\n",
            "[[ 1  2  5  4  5  6  7]\n",
            " [ 8  9  5 11 12 20 14]]\n"
          ],
          "name": "stdout"
        }
      ]
    },
    {
      "cell_type": "markdown",
      "metadata": {
        "id": "x7ajvzBuduN4"
      },
      "source": [
        "*3-d example"
      ]
    },
    {
      "cell_type": "code",
      "metadata": {
        "colab": {
          "base_uri": "https://localhost:8080/"
        },
        "id": "NWwJ1Rz2dxk0",
        "outputId": "64cedc28-3ec9-4ebe-d787-2a810d1a8f00"
      },
      "source": [
        "b = np.array([[[1,2],[3,4]],[[5,6],[7,8]]])\r\n",
        "print(b)"
      ],
      "execution_count": null,
      "outputs": [
        {
          "output_type": "stream",
          "text": [
            "[[[1 2]\n",
            "  [3 4]]\n",
            "\n",
            " [[5 6]\n",
            "  [7 8]]]\n"
          ],
          "name": "stdout"
        }
      ]
    },
    {
      "cell_type": "code",
      "metadata": {
        "colab": {
          "base_uri": "https://localhost:8080/"
        },
        "id": "LuP3ZtIbeBpe",
        "outputId": "b3cc7b8a-19dc-4742-8d6e-78bc8e401b47"
      },
      "source": [
        "#Get specific element (work outside in)\r\n",
        "b[:,1,:]"
      ],
      "execution_count": null,
      "outputs": [
        {
          "output_type": "execute_result",
          "data": {
            "text/plain": [
              "array([[3, 4],\n",
              "       [7, 8]])"
            ]
          },
          "metadata": {
            "tags": []
          },
          "execution_count": 17
        }
      ]
    },
    {
      "cell_type": "code",
      "metadata": {
        "colab": {
          "base_uri": "https://localhost:8080/"
        },
        "id": "C0q76Mxoeung",
        "outputId": "b675ef23-7517-4071-e5be-875579292d03"
      },
      "source": [
        "#replace\r\n",
        "b[:,1,:] = [[9,9],[8,8]]\r\n",
        "print(b)"
      ],
      "execution_count": null,
      "outputs": [
        {
          "output_type": "stream",
          "text": [
            "[[[1 2]\n",
            "  [9 9]]\n",
            "\n",
            " [[5 6]\n",
            "  [8 8]]]\n"
          ],
          "name": "stdout"
        }
      ]
    },
    {
      "cell_type": "markdown",
      "metadata": {
        "id": "VIeDc7IbfS_w"
      },
      "source": [
        "**Initializing Different Types of Arrays**\r\n",
        "\r\n",
        "---\r\n",
        "\r\n"
      ]
    },
    {
      "cell_type": "code",
      "metadata": {
        "colab": {
          "base_uri": "https://localhost:8080/"
        },
        "id": "Vi_5Scb8fa--",
        "outputId": "0fbe021b-c3f3-49b0-cb95-28b1a79e2003"
      },
      "source": [
        "#All 0s Matrix\r\n",
        "np.zeros((2,3,3))"
      ],
      "execution_count": null,
      "outputs": [
        {
          "output_type": "execute_result",
          "data": {
            "text/plain": [
              "array([[[0., 0., 0.],\n",
              "        [0., 0., 0.],\n",
              "        [0., 0., 0.]],\n",
              "\n",
              "       [[0., 0., 0.],\n",
              "        [0., 0., 0.],\n",
              "        [0., 0., 0.]]])"
            ]
          },
          "metadata": {
            "tags": []
          },
          "execution_count": 23
        }
      ]
    },
    {
      "cell_type": "code",
      "metadata": {
        "colab": {
          "base_uri": "https://localhost:8080/"
        },
        "id": "_FFRkyaYiCQj",
        "outputId": "2b48dc79-d192-4f85-d12d-28a7c13b0736"
      },
      "source": [
        "#All 1s matrix\r\n",
        "np.ones((4,2,2), dtype= 'int')"
      ],
      "execution_count": null,
      "outputs": [
        {
          "output_type": "execute_result",
          "data": {
            "text/plain": [
              "array([[[1, 1],\n",
              "        [1, 1]],\n",
              "\n",
              "       [[1, 1],\n",
              "        [1, 1]],\n",
              "\n",
              "       [[1, 1],\n",
              "        [1, 1]],\n",
              "\n",
              "       [[1, 1],\n",
              "        [1, 1]]])"
            ]
          },
          "metadata": {
            "tags": []
          },
          "execution_count": 26
        }
      ]
    },
    {
      "cell_type": "code",
      "metadata": {
        "colab": {
          "base_uri": "https://localhost:8080/"
        },
        "id": "8B9u_Cd9iaU_",
        "outputId": "27ae6fff-5168-4d66-b5e0-45e26f2cbf12"
      },
      "source": [
        "#Any other number\r\n",
        "np.full((2,2),99, dtype='float')"
      ],
      "execution_count": null,
      "outputs": [
        {
          "output_type": "execute_result",
          "data": {
            "text/plain": [
              "array([[99., 99.],\n",
              "       [99., 99.]])"
            ]
          },
          "metadata": {
            "tags": []
          },
          "execution_count": 29
        }
      ]
    },
    {
      "cell_type": "code",
      "metadata": {
        "colab": {
          "base_uri": "https://localhost:8080/"
        },
        "id": "3yu1_39rjdCq",
        "outputId": "10fd9878-c677-4a94-d682-fe863f74c875"
      },
      "source": [
        "# Any other number (full_like)\r\n",
        "np.full_like(a, 4)\r\n"
      ],
      "execution_count": null,
      "outputs": [
        {
          "output_type": "execute_result",
          "data": {
            "text/plain": [
              "array([[4, 4, 4, 4, 4, 4, 4],\n",
              "       [4, 4, 4, 4, 4, 4, 4]])"
            ]
          },
          "metadata": {
            "tags": []
          },
          "execution_count": 31
        }
      ]
    },
    {
      "cell_type": "code",
      "metadata": {
        "colab": {
          "base_uri": "https://localhost:8080/"
        },
        "id": "YRdnqY4KjybD",
        "outputId": "516e776c-4695-4e39-a1f0-1da9df5df4b0"
      },
      "source": [
        "#Random Decimal numbers\r\n",
        "np.random.rand(4,2,3)"
      ],
      "execution_count": null,
      "outputs": [
        {
          "output_type": "execute_result",
          "data": {
            "text/plain": [
              "array([[[0.50672007, 0.57705192, 0.47136496],\n",
              "        [0.22799027, 0.417096  , 0.80506562]],\n",
              "\n",
              "       [[0.08998802, 0.67595358, 0.42976643],\n",
              "        [0.04039056, 0.63753285, 0.05040434]],\n",
              "\n",
              "       [[0.79059046, 0.15317501, 0.56310245],\n",
              "        [0.34238445, 0.21712088, 0.95979386]],\n",
              "\n",
              "       [[0.22997192, 0.09891755, 0.19927198],\n",
              "        [0.15525021, 0.19859454, 0.81500982]]])"
            ]
          },
          "metadata": {
            "tags": []
          },
          "execution_count": 33
        }
      ]
    },
    {
      "cell_type": "code",
      "metadata": {
        "colab": {
          "base_uri": "https://localhost:8080/"
        },
        "id": "WRNCMhTkkXa-",
        "outputId": "372d8007-5a45-4d77-b1aa-d00628098cae"
      },
      "source": [
        "#Another random decimal sample\r\n",
        "np.random.random_sample(a.shape)"
      ],
      "execution_count": null,
      "outputs": [
        {
          "output_type": "execute_result",
          "data": {
            "text/plain": [
              "array([[0.90002789, 0.62232796, 0.77846672, 0.21228644, 0.81903694,\n",
              "        0.42325848, 0.82300944],\n",
              "       [0.18831832, 0.11958998, 0.62862563, 0.22968039, 0.08586172,\n",
              "        0.84098372, 0.20942093]])"
            ]
          },
          "metadata": {
            "tags": []
          },
          "execution_count": 34
        }
      ]
    },
    {
      "cell_type": "code",
      "metadata": {
        "colab": {
          "base_uri": "https://localhost:8080/"
        },
        "id": "ZIXLiYtCkf1q",
        "outputId": "67a595a1-849a-4f60-dab1-cb1e5152c16c"
      },
      "source": [
        "#Random integer values\r\n",
        "np.random.randint(7, size=(3,3))"
      ],
      "execution_count": null,
      "outputs": [
        {
          "output_type": "execute_result",
          "data": {
            "text/plain": [
              "array([[3, 4, 0],\n",
              "       [1, 1, 1],\n",
              "       [3, 2, 3]])"
            ]
          },
          "metadata": {
            "tags": []
          },
          "execution_count": 36
        }
      ]
    },
    {
      "cell_type": "code",
      "metadata": {
        "colab": {
          "base_uri": "https://localhost:8080/"
        },
        "id": "CEmJ-iz_lK8h",
        "outputId": "12771349-8fbf-445a-ea39-1e6dba33ccc6"
      },
      "source": [
        "#The indentity matrix\r\n",
        "np.identity(5)"
      ],
      "execution_count": null,
      "outputs": [
        {
          "output_type": "execute_result",
          "data": {
            "text/plain": [
              "array([[1., 0., 0., 0., 0.],\n",
              "       [0., 1., 0., 0., 0.],\n",
              "       [0., 0., 1., 0., 0.],\n",
              "       [0., 0., 0., 1., 0.],\n",
              "       [0., 0., 0., 0., 1.]])"
            ]
          },
          "metadata": {
            "tags": []
          },
          "execution_count": 37
        }
      ]
    },
    {
      "cell_type": "code",
      "metadata": {
        "colab": {
          "base_uri": "https://localhost:8080/"
        },
        "id": "qQeKY8MzllXJ",
        "outputId": "218b3eb1-1203-48cd-87aa-20b8c2d53897"
      },
      "source": [
        "#Repeat an array\r\n",
        "arr = np.array([[1,2,3]])\r\n",
        "r1 = np.repeat(arr,3, axis=0)\r\n",
        "print(r1)"
      ],
      "execution_count": null,
      "outputs": [
        {
          "output_type": "stream",
          "text": [
            "[[1 2 3]\n",
            " [1 2 3]\n",
            " [1 2 3]]\n"
          ],
          "name": "stdout"
        }
      ]
    },
    {
      "cell_type": "code",
      "metadata": {
        "colab": {
          "base_uri": "https://localhost:8080/"
        },
        "id": "ri-1tJSKmAgZ",
        "outputId": "f22f903a-829b-4d2e-d322-ab7f095cdd11"
      },
      "source": [
        "a = np.array([[1, 2, 3, 4, 5], [6, 7, 8, 9, 10]])\r\n",
        "\r\n",
        "print(np.full_like(a, 100))"
      ],
      "execution_count": null,
      "outputs": [
        {
          "output_type": "stream",
          "text": [
            "[[100 100 100 100 100]\n",
            " [100 100 100 100 100]]\n"
          ],
          "name": "stdout"
        }
      ]
    },
    {
      "cell_type": "markdown",
      "metadata": {
        "id": "qQnZKNmAmSPR"
      },
      "source": [
        "**Initialize Array Problem**\r\n",
        "\r\n",
        "---\r\n",
        "\r\n"
      ]
    },
    {
      "cell_type": "code",
      "metadata": {
        "colab": {
          "base_uri": "https://localhost:8080/"
        },
        "id": "kuMMkdWemYoI",
        "outputId": "74a2d186-f17e-4222-8d94-3d5be483b048"
      },
      "source": [
        "output = np.ones((5,5))\r\n",
        "print(output)\r\n",
        "\r\n",
        "z = np.zeros((3,3))\r\n",
        "z[1,1] = 9\r\n",
        "print(z)\r\n",
        "\r\n",
        "output[1:4,1:4] = z\r\n",
        "print(output)"
      ],
      "execution_count": null,
      "outputs": [
        {
          "output_type": "stream",
          "text": [
            "[[1. 1. 1. 1. 1.]\n",
            " [1. 1. 1. 1. 1.]\n",
            " [1. 1. 1. 1. 1.]\n",
            " [1. 1. 1. 1. 1.]\n",
            " [1. 1. 1. 1. 1.]]\n",
            "[[0. 0. 0.]\n",
            " [0. 9. 0.]\n",
            " [0. 0. 0.]]\n",
            "[[1. 1. 1. 1. 1.]\n",
            " [1. 0. 0. 0. 1.]\n",
            " [1. 0. 9. 0. 1.]\n",
            " [1. 0. 0. 0. 1.]\n",
            " [1. 1. 1. 1. 1.]]\n"
          ],
          "name": "stdout"
        }
      ]
    },
    {
      "cell_type": "code",
      "metadata": {
        "colab": {
          "base_uri": "https://localhost:8080/"
        },
        "id": "4rRNbPmToIRo",
        "outputId": "2a0374c7-fddf-4898-ae60-9136c7ae20de"
      },
      "source": [
        "out = np.zeros((7,7))\r\n",
        "\r\n",
        "z = np.ones((5,5))\r\n",
        "z[2,2] = 5\r\n",
        "out[1:-1,1:-1] = z\r\n",
        "print(out)"
      ],
      "execution_count": 3,
      "outputs": [
        {
          "output_type": "stream",
          "text": [
            "[[0. 0. 0. 0. 0. 0. 0.]\n",
            " [0. 1. 1. 1. 1. 1. 0.]\n",
            " [0. 1. 1. 1. 1. 1. 0.]\n",
            " [0. 1. 1. 5. 1. 1. 0.]\n",
            " [0. 1. 1. 1. 1. 1. 0.]\n",
            " [0. 1. 1. 1. 1. 1. 0.]\n",
            " [0. 0. 0. 0. 0. 0. 0.]]\n"
          ],
          "name": "stdout"
        }
      ]
    },
    {
      "cell_type": "markdown",
      "metadata": {
        "id": "R8C22GH62hIS"
      },
      "source": [
        "**Mathematics**\r\n",
        "\r\n",
        "---\r\n",
        "\r\n"
      ]
    },
    {
      "cell_type": "code",
      "metadata": {
        "colab": {
          "base_uri": "https://localhost:8080/"
        },
        "id": "AngJicCE2opP",
        "outputId": "0b851a91-92a1-44ea-fd7e-299f0faf1ee7"
      },
      "source": [
        "a = np.array([1,2,3,4])\r\n",
        "print(a)"
      ],
      "execution_count": 13,
      "outputs": [
        {
          "output_type": "stream",
          "text": [
            "[1 2 3 4]\n"
          ],
          "name": "stdout"
        }
      ]
    },
    {
      "cell_type": "code",
      "metadata": {
        "colab": {
          "base_uri": "https://localhost:8080/"
        },
        "id": "pj17hfee3CqY",
        "outputId": "3fba21bb-1969-40da-9022-cd4ba974909e"
      },
      "source": [
        "a + 2"
      ],
      "execution_count": 6,
      "outputs": [
        {
          "output_type": "execute_result",
          "data": {
            "text/plain": [
              "array([3, 4, 5, 6])"
            ]
          },
          "metadata": {
            "tags": []
          },
          "execution_count": 6
        }
      ]
    },
    {
      "cell_type": "code",
      "metadata": {
        "colab": {
          "base_uri": "https://localhost:8080/"
        },
        "id": "l_R_BR0E3HLM",
        "outputId": "e5f43d09-8cba-4755-8da1-7a478798e054"
      },
      "source": [
        "a -2 "
      ],
      "execution_count": 7,
      "outputs": [
        {
          "output_type": "execute_result",
          "data": {
            "text/plain": [
              "array([-1,  0,  1,  2])"
            ]
          },
          "metadata": {
            "tags": []
          },
          "execution_count": 7
        }
      ]
    },
    {
      "cell_type": "code",
      "metadata": {
        "colab": {
          "base_uri": "https://localhost:8080/"
        },
        "id": "79AmxnII3SJY",
        "outputId": "20d02d1d-0d26-4445-8b89-72734bbea5b3"
      },
      "source": [
        "a * 2"
      ],
      "execution_count": 8,
      "outputs": [
        {
          "output_type": "execute_result",
          "data": {
            "text/plain": [
              "array([2, 4, 6, 8])"
            ]
          },
          "metadata": {
            "tags": []
          },
          "execution_count": 8
        }
      ]
    },
    {
      "cell_type": "code",
      "metadata": {
        "colab": {
          "base_uri": "https://localhost:8080/"
        },
        "id": "vvJ_xu5D3Vk3",
        "outputId": "5a4a5fba-f4a3-4554-fc0f-405a110caafe"
      },
      "source": [
        "a / 2"
      ],
      "execution_count": 9,
      "outputs": [
        {
          "output_type": "execute_result",
          "data": {
            "text/plain": [
              "array([0.5, 1. , 1.5, 2. ])"
            ]
          },
          "metadata": {
            "tags": []
          },
          "execution_count": 9
        }
      ]
    },
    {
      "cell_type": "code",
      "metadata": {
        "colab": {
          "base_uri": "https://localhost:8080/"
        },
        "id": "5zBHsBqP3dYS",
        "outputId": "bc89e14a-abd5-4c3d-9717-bfbb24af4597"
      },
      "source": [
        "b = np.array([1,5,9,8])\r\n",
        "print(b)"
      ],
      "execution_count": 11,
      "outputs": [
        {
          "output_type": "stream",
          "text": [
            "[1 5 9 8]\n"
          ],
          "name": "stdout"
        }
      ]
    },
    {
      "cell_type": "code",
      "metadata": {
        "colab": {
          "base_uri": "https://localhost:8080/"
        },
        "id": "Beqf__sF3q_R",
        "outputId": "9106a44f-7d23-4c45-f686-c895d823fcd7"
      },
      "source": [
        "a + b"
      ],
      "execution_count": 14,
      "outputs": [
        {
          "output_type": "execute_result",
          "data": {
            "text/plain": [
              "array([ 2,  7, 12, 12])"
            ]
          },
          "metadata": {
            "tags": []
          },
          "execution_count": 14
        }
      ]
    },
    {
      "cell_type": "code",
      "metadata": {
        "colab": {
          "base_uri": "https://localhost:8080/"
        },
        "id": "r9ycXIIQ31Ts",
        "outputId": "b04ad9a8-1706-4aff-9360-cb60e87d4d59"
      },
      "source": [
        "a ** 2"
      ],
      "execution_count": 15,
      "outputs": [
        {
          "output_type": "execute_result",
          "data": {
            "text/plain": [
              "array([ 1,  4,  9, 16])"
            ]
          },
          "metadata": {
            "tags": []
          },
          "execution_count": 15
        }
      ]
    },
    {
      "cell_type": "code",
      "metadata": {
        "colab": {
          "base_uri": "https://localhost:8080/"
        },
        "id": "2yArBjSf36tg",
        "outputId": "69632af7-9e59-4b5d-e1f8-e3dc26cc24d0"
      },
      "source": [
        "#Take the sin (for cos, just do the opposite)\r\n",
        "np.sin(a)"
      ],
      "execution_count": 16,
      "outputs": [
        {
          "output_type": "execute_result",
          "data": {
            "text/plain": [
              "array([ 0.84147098,  0.90929743,  0.14112001, -0.7568025 ])"
            ]
          },
          "metadata": {
            "tags": []
          },
          "execution_count": 16
        }
      ]
    },
    {
      "cell_type": "markdown",
      "metadata": {
        "id": "8RuTm5zS4SKB"
      },
      "source": [
        "### Linear Algebra\r\n",
        "\r\n",
        "---\r\n",
        "\r\n"
      ]
    },
    {
      "cell_type": "code",
      "metadata": {
        "colab": {
          "base_uri": "https://localhost:8080/"
        },
        "id": "ZtX0Oj8d4dH-",
        "outputId": "3e3b8ab0-d039-42ae-da1b-d7a15d12ae7b"
      },
      "source": [
        "a = np.ones((2,3))\r\n",
        "print(a)\r\n",
        "\r\n",
        "b = np.full((3,2), 2)\r\n",
        "print(b)\r\n",
        "\r\n",
        "np.matmul(a,b)"
      ],
      "execution_count": 22,
      "outputs": [
        {
          "output_type": "stream",
          "text": [
            "[[1. 1. 1.]\n",
            " [1. 1. 1.]]\n",
            "[[2 2]\n",
            " [2 2]\n",
            " [2 2]]\n"
          ],
          "name": "stdout"
        },
        {
          "output_type": "execute_result",
          "data": {
            "text/plain": [
              "array([[6., 6.],\n",
              "       [6., 6.]])"
            ]
          },
          "metadata": {
            "tags": []
          },
          "execution_count": 22
        }
      ]
    },
    {
      "cell_type": "code",
      "metadata": {
        "colab": {
          "base_uri": "https://localhost:8080/"
        },
        "id": "v8sFQwXs5qrV",
        "outputId": "b71cf94a-a27c-4397-deef-b67db4430414"
      },
      "source": [
        "#Find the determinant\r\n",
        "c = np.identity(3)\r\n",
        "np.linalg.det(c)"
      ],
      "execution_count": 23,
      "outputs": [
        {
          "output_type": "execute_result",
          "data": {
            "text/plain": [
              "1.0"
            ]
          },
          "metadata": {
            "tags": []
          },
          "execution_count": 23
        }
      ]
    },
    {
      "cell_type": "markdown",
      "metadata": {
        "id": "isLIylY46DnS"
      },
      "source": [
        "**Statistics**\r\n",
        "\r\n",
        "\r\n",
        "---\r\n",
        "\r\n"
      ]
    },
    {
      "cell_type": "code",
      "metadata": {
        "colab": {
          "base_uri": "https://localhost:8080/"
        },
        "id": "ovhPV2eL6MEL",
        "outputId": "96bbde4d-a927-42bc-d194-c30d02cf2ab7"
      },
      "source": [
        "stats = np.array([[1,2,3],[4,5,6]])\r\n",
        "stats"
      ],
      "execution_count": 24,
      "outputs": [
        {
          "output_type": "execute_result",
          "data": {
            "text/plain": [
              "array([[1, 2, 3],\n",
              "       [4, 5, 6]])"
            ]
          },
          "metadata": {
            "tags": []
          },
          "execution_count": 24
        }
      ]
    },
    {
      "cell_type": "code",
      "metadata": {
        "colab": {
          "base_uri": "https://localhost:8080/"
        },
        "id": "Cny1xtl_6cdf",
        "outputId": "2854b800-8ab7-4fa6-acb9-6f81ccbb59a5"
      },
      "source": [
        "np.min(stats, axis=1)"
      ],
      "execution_count": 27,
      "outputs": [
        {
          "output_type": "execute_result",
          "data": {
            "text/plain": [
              "array([1, 4])"
            ]
          },
          "metadata": {
            "tags": []
          },
          "execution_count": 27
        }
      ]
    },
    {
      "cell_type": "code",
      "metadata": {
        "colab": {
          "base_uri": "https://localhost:8080/"
        },
        "id": "-_WG0wCX6vWy",
        "outputId": "b4cc236f-979b-472b-e784-cbbce005840d"
      },
      "source": [
        "np.sum(stats)"
      ],
      "execution_count": 28,
      "outputs": [
        {
          "output_type": "execute_result",
          "data": {
            "text/plain": [
              "21"
            ]
          },
          "metadata": {
            "tags": []
          },
          "execution_count": 28
        }
      ]
    },
    {
      "cell_type": "code",
      "metadata": {
        "colab": {
          "base_uri": "https://localhost:8080/"
        },
        "id": "rFIYTzYB6fec",
        "outputId": "8dc430b4-8764-4524-8f6d-f91ea453ac91"
      },
      "source": [
        "np.max(stats)\r\n"
      ],
      "execution_count": 29,
      "outputs": [
        {
          "output_type": "execute_result",
          "data": {
            "text/plain": [
              "6"
            ]
          },
          "metadata": {
            "tags": []
          },
          "execution_count": 29
        }
      ]
    },
    {
      "cell_type": "code",
      "metadata": {
        "colab": {
          "base_uri": "https://localhost:8080/"
        },
        "id": "xPODu9E16y_v",
        "outputId": "270a2622-3048-4852-9283-622b4a508c77"
      },
      "source": [
        "#Question:\r\n",
        "\r\n",
        "a = np.array(([1,2,3,4,5], [6,7,8,9,10]))\r\n",
        "b = np.max(a, axis=1).sum()\r\n",
        "print(b)"
      ],
      "execution_count": 31,
      "outputs": [
        {
          "output_type": "stream",
          "text": [
            "15\n"
          ],
          "name": "stdout"
        }
      ]
    },
    {
      "cell_type": "markdown",
      "metadata": {
        "id": "UStV9ozq7tLn"
      },
      "source": [
        "**Reorganizing Arrays**\r\n",
        "\r\n",
        "\r\n",
        "---\r\n",
        "\r\n"
      ]
    },
    {
      "cell_type": "code",
      "metadata": {
        "colab": {
          "base_uri": "https://localhost:8080/"
        },
        "id": "BpNkkMR77xpV",
        "outputId": "3c8c2c4c-7c25-4499-b8bc-1de1e5b89982"
      },
      "source": [
        "bef = np.array(([1,2,3,4], [5,6,7,8]))\r\n",
        "print(bef)\r\n",
        "\r\n",
        "af = bef.reshape((4,2))\r\n",
        "print(af)"
      ],
      "execution_count": 34,
      "outputs": [
        {
          "output_type": "stream",
          "text": [
            "[[1 2 3 4]\n",
            " [5 6 7 8]]\n",
            "[[1 2]\n",
            " [3 4]\n",
            " [5 6]\n",
            " [7 8]]\n"
          ],
          "name": "stdout"
        }
      ]
    },
    {
      "cell_type": "code",
      "metadata": {
        "colab": {
          "base_uri": "https://localhost:8080/"
        },
        "id": "zR203MuP8ZcN",
        "outputId": "539f289b-e1c8-43e6-b103-ecea8ef4a7a4"
      },
      "source": [
        "#Vertically stacking vectors\r\n",
        "vr1 = np.array([1,2,3,4])\r\n",
        "vr2 = np.array([5,6,7,8])\r\n",
        "\r\n",
        "np.vstack((vr1,vr2))"
      ],
      "execution_count": 37,
      "outputs": [
        {
          "output_type": "execute_result",
          "data": {
            "text/plain": [
              "array([[1, 2, 3, 4],\n",
              "       [5, 6, 7, 8]])"
            ]
          },
          "metadata": {
            "tags": []
          },
          "execution_count": 37
        }
      ]
    },
    {
      "cell_type": "code",
      "metadata": {
        "colab": {
          "base_uri": "https://localhost:8080/"
        },
        "id": "f_51VMdK9KKh",
        "outputId": "26edf29c-7e9a-4408-b750-88dbb172bb99"
      },
      "source": [
        "#Horizontally stacking vectors\r\n",
        "ho1 = np.ones((2,4))\r\n",
        "ho2 = np.ones((2,2))\r\n",
        "\r\n",
        "np.hstack((ho1,ho2))\r\n",
        "\r\n"
      ],
      "execution_count": 40,
      "outputs": [
        {
          "output_type": "execute_result",
          "data": {
            "text/plain": [
              "array([[1., 1., 1., 1., 1., 1.],\n",
              "       [1., 1., 1., 1., 1., 1.]])"
            ]
          },
          "metadata": {
            "tags": []
          },
          "execution_count": 40
        }
      ]
    }
  ]
}